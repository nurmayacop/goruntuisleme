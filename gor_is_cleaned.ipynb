{
 "cells": [
  {
   "cell_type": "markdown",
   "metadata": {
    "id": "FY9Rn4yVP-AK"
   },
   "source": [
    "**Giriş**\n",
    "\n",
    "**Bu ara sınavda, ChestX-ray8 veri seti kullanılarak göğüs röntgeni görüntüleri üzerinde veri keşfi ve görüntü işleme teknikleri uygulanmıştır. Bu kapsamda; veri özelliklerinin incelenmesi, kontrast germe, histogram eşitleme, gamma düzeltme ve Fourier dönüşümü gibi yöntemler uygulanmış, görüntüler üzerinde iyileştirme, gürültü azaltma ve veri artırma işlemleri gerçekleştirilmiştir. ChestX-ray8 veri seti, analizlerin temelini oluşturmuştur**."
   ]
  },
  {
   "cell_type": "markdown",
   "metadata": {
    "id": "idEpFb2HP7g9"
   },
   "source": [
    "**Adım 1: Veri Yükleme**"
   ]
  },
  {
   "cell_type": "code",
   "execution_count": null,
   "metadata": {
    "id": "Yr3LRBO2P8UB"
   },
   "outputs": [],
   "source": [
    "# Import necessary packages\n",
    "import pandas as pd\n",
    "import numpy as np\n",
    "import matplotlib.pyplot as plt\n",
    "# %matplotlib inline\n",
    "import os\n",
    "import seaborn as sns\n",
    "sns.set()\n"
   ]
  },
  {
   "cell_type": "code",
   "execution_count": null,
   "metadata": {
    "colab": {
     "base_uri": "https://localhost:8080/"
    },
    "id": "9_ujTE37ufLP",
    "outputId": "8b1f6676-e11b-4f3b-89b1-b269502a81a4"
   },
   "outputs": [],
   "source": [
    "!git clone https://github.com/hardik0/AI-for-Medicine-Specialization\n",
    "%cd AI-for-Medicine-Specialization/AI-for-Medical-Diagnosis/\n"
   ]
  },
  {
   "cell_type": "code",
   "execution_count": null,
   "metadata": {
    "colab": {
     "base_uri": "https://localhost:8080/"
    },
    "id": "BJ8Uwr5qurcd",
    "outputId": "43ffc917-6214-4c45-acb4-8bac9ede15be"
   },
   "outputs": [],
   "source": [
    "%ls nih/\n"
   ]
  },
  {
   "cell_type": "code",
   "execution_count": null,
   "metadata": {
    "colab": {
     "base_uri": "https://localhost:8080/",
     "height": 224
    },
    "id": "0HkrFfP3uwHP",
    "outputId": "f227689e-6468-4acc-89b4-762e098ec1e1"
   },
   "outputs": [],
   "source": [
    "# Read csv file containing training datadata\n",
    "train_df = pd.read_csv(\"nih/train-small.csv\")\n",
    "\n",
    "# Print first 5 rows\n",
    "print(f'There are {train_df.shape[0]} rows and {train_df.shape[1]} columns in this data frame')\n",
    "train_df.head()"
   ]
  },
  {
   "cell_type": "markdown",
   "metadata": {
    "id": "aerVUpzyvS_A"
   },
   "source": [
    "**Image sütununda hastalara ait görüntülerin isimleri yer almaktadır. Bir ve sıfır olan sütunlarda ise hastalara, röntgen görüntüleri ile hangi tanıların verildiği gösterilmektedir. 1 rakamı verilen tanıyı göstermektedir.**\n",
    "\n",
    "\n",
    "\n"
   ]
  },
  {
   "cell_type": "code",
   "execution_count": null,
   "metadata": {
    "colab": {
     "base_uri": "https://localhost:8080/"
    },
    "id": "ulh_ORMWQoq7",
    "outputId": "e353cf09-9eb9-49a8-bb38-b693de5f3f26"
   },
   "outputs": [],
   "source": [
    "print(f\"Veri setinde {train_df.shape[0]} satır ve {train_df.shape[1]} sütun bulunmaktadır.\")\n",
    "train_df.head()\n",
    "\n",
    "# Veri türleri ve eksik değerler\n",
    "print(\"\\nVeri Türleri ve Eksik Değerler:\")\n",
    "print(train_df.info())\n",
    "\n",
    "# Benzersiz hasta sayısını analiz etme\n",
    "unique_patient_count = train_df[\"PatientId\"].nunique()\n",
    "total_patient_count = train_df[\"PatientId\"].count()\n",
    "print(f\"\\nToplam hasta sayısı: {total_patient_count}\")\n",
    "print(f\"Benzersiz hasta sayısı: {unique_patient_count}\")\n",
    "if unique_patient_count < total_patient_count:\n",
    "    print(\"Bazı hastalar birden fazla görüntüye sahip.\")\n",
    "else:\n",
    "    print(\"Her hastanın yalnızca bir görüntüsü var.\")"
   ]
  },
  {
   "cell_type": "markdown",
   "metadata": {
    "id": "UaHKMKDiSAzd"
   },
   "source": [
    "Toplam Satır: 1000\n",
    "Toplam Sütun: 16\n",
    "Benzersiz Hasta Sayısı: 928\n",
    "Bazı hastaların birden fazla görüntüsü bulunmaktadır."
   ]
  },
  {
   "cell_type": "markdown",
   "metadata": {
    "id": "bEE9-hUzSELk"
   },
   "source": [
    "**Adım 2: Görüntü Yükleme ve Görselleştirme**\n",
    "\n"
   ]
  },
  {
   "cell_type": "markdown",
   "metadata": {
    "id": "iuEp8C-OSa-q"
   },
   "source": [
    "**Veri setinden rastgele seçilen 9 görüntü aşağıda görselleştirilmiştir:**\n",
    "\n",
    "**Ardından seçilen görüntülerin her biri için maksimum, minimum, ortalama ve standart sapma değerleri hesaplanmıştır.**"
   ]
  },
  {
   "cell_type": "code",
   "execution_count": null,
   "metadata": {
    "colab": {
     "base_uri": "https://localhost:8080/",
     "height": 1000
    },
    "id": "EI5-Hx-dSw4m",
    "outputId": "7a3df741-86df-49d7-b7b9-b59fad6916ff"
   },
   "outputs": [],
   "source": [
    "# Görsellerin bulunduğu klasörün yolunu belirtme\n",
    "img_dir = 'nih/images_small/'  # Görsellerin klasör yolunu kontrol edin\n",
    "\n",
    "# Rastgele 9 görüntü seçimi\n",
    "random_images = train_df['Image'].sample(9).values\n",
    "\n",
    "# Görselleri görselleştirme\n",
    "plt.figure(figsize=(20, 10))\n",
    "for i, img_name in enumerate(random_images):\n",
    "    img_path = os.path.join(img_dir, img_name)\n",
    "    img = plt.imread(img_path)\n",
    "    plt.subplot(3, 3, i + 1)\n",
    "    plt.imshow(img, cmap='gray')\n",
    "    plt.axis('off')\n",
    "    plt.title(f\"Görüntü: {img_name}\")\n",
    "plt.tight_layout()\n",
    "plt.show()\n",
    "\n",
    "# İstatistiksel özellikler\n",
    "for img_name in random_images:\n",
    "    img_path = os.path.join(img_dir, img_name)\n",
    "    img = plt.imread(img_path)\n",
    "    print(f\"Görüntü: {img_name}\")\n",
    "    print(f\" - Maksimum: {img.max():.2f}\")\n",
    "    print(f\" - Minimum: {img.min():.2f}\")\n",
    "    print(f\" - Ortalama: {img.mean():.2f}\")\n",
    "    print(f\" - Standart Sapma: {img.std():.2f}\\n\")"
   ]
  },
  {
   "cell_type": "markdown",
   "metadata": {
    "id": "M05TDl0fTS5G"
   },
   "source": [
    "**Histogram Çizimi**"
   ]
  },
  {
   "cell_type": "markdown",
   "metadata": {
    "id": "dQ-McxG_TWnx"
   },
   "source": [
    "**Seçilen 9 görüntünün her biri için piksel yoğunluk dağılımını gösteren histogramlar aşağıda verilmiştir.**\n",
    "\n",
    "\n",
    "\n",
    "\n",
    "\n",
    "\n"
   ]
  },
  {
   "cell_type": "code",
   "execution_count": null,
   "metadata": {
    "colab": {
     "base_uri": "https://localhost:8080/",
     "height": 1000
    },
    "id": "8mftq0M7Tv8t",
    "outputId": "882776aa-ab2d-4c35-b20a-f6cbc924a6d9"
   },
   "outputs": [],
   "source": [
    "# Histogram çizimi\n",
    "plt.figure(figsize=(20, 10))\n",
    "for i, img_name in enumerate(random_images):\n",
    "    img_path = os.path.join(img_dir, img_name)\n",
    "    img = plt.imread(img_path)\n",
    "    plt.subplot(3, 3, i + 1)\n",
    "    plt.hist(img.ravel(), bins=256, color='gray', alpha=0.8)\n",
    "    plt.title(f\"Histogram: {img_name}\")\n",
    "    plt.xlabel(\"Piksel Yoğunluğu\")\n",
    "    plt.ylabel(\"Piksel Sayısı\")\n",
    "plt.tight_layout()\n",
    "plt.show()"
   ]
  },
  {
   "cell_type": "markdown",
   "metadata": {
    "id": "gqzxbiT1Uzqu"
   },
   "source": [
    "**Adım 3: Görüntü İşleme ve İyileştirme**"
   ]
  },
  {
   "cell_type": "markdown",
   "metadata": {
    "id": "BX5gOEhp2vE4"
   },
   "source": [
    "**Minimum ve maksimum piksel değerleri kullanılarak kontrast germe işlemi yapılmış, ardından histogram eşitleme uygulayarak kontrast artırılmış ve Gamma düzeltme yöntemi ile görüntünün parlaklığı ayarlanmıştır.**"
   ]
  },
  {
   "cell_type": "code",
   "execution_count": null,
   "metadata": {
    "colab": {
     "base_uri": "https://localhost:8080/",
     "height": 451
    },
    "id": "0NC05S46iXdU",
    "outputId": "473399a4-dc6f-40ab-fd7e-d424e5fa998a"
   },
   "outputs": [],
   "source": [
    "from skimage import exposure\n",
    "import cv2\n",
    "\n",
    "# İlk görüntüyü seçelim ve işleyelim\n",
    "img_path = os.path.join(img_dir, random_images[0])\n",
    "raw_image = plt.imread(img_path)\n",
    "\n",
    "# 1. Kontrast Germe\n",
    "min_val, max_val = raw_image.min(), raw_image.max()\n",
    "contrast_stretched = (raw_image - min_val) / (max_val - min_val)  # Normalize [0, 1]\n",
    "contrast_stretched = (contrast_stretched * 255).astype(np.uint8)  # [0, 255]\n",
    "\n",
    "# 2. Histogram Eşitleme\n",
    "equalized_image = exposure.equalize_hist(contrast_stretched)  # Normalize [0, 1]\n",
    "equalized_image = (equalized_image * 255).astype(np.uint8)\n",
    "\n",
    "# 3. Gamma Düzeltme\n",
    "gamma = 1.2  # Gamma değeri\n",
    "gamma_corrected = np.power(equalized_image / 255.0, gamma) * 255\n",
    "gamma_corrected = gamma_corrected.astype(np.uint8)\n",
    "\n",
    "# Görselleri karşılaştırmalı görselleştirelim\n",
    "plt.figure(figsize=(18, 10))\n",
    "plt.subplot(2, 4, 1), plt.imshow(raw_image, cmap='gray'), plt.title('Orijinal Görüntü')\n",
    "plt.subplot(2, 4, 2), plt.imshow(contrast_stretched, cmap='gray'), plt.title('Kontrast Germe')\n",
    "plt.subplot(2, 4, 3), plt.imshow(equalized_image, cmap='gray'), plt.title('Histogram Eşitleme')\n",
    "plt.subplot(2, 4, 4), plt.imshow(gamma_corrected, cmap='gray'), plt.title(f'Gamma Düzeltme (Gamma={gamma})')\n",
    "\n",
    "plt.tight_layout()\n",
    "plt.show()"
   ]
  },
  {
   "cell_type": "markdown",
   "metadata": {
    "id": "GPTLT7714w6s"
   },
   "source": [
    "... 9 görüntünün her  biri için Orijinal Görüntüler, Kontrast Germe, Histogram Eşitleme ve Gamma Düzeltme\n",
    "\n"
   ]
  },
  {
   "cell_type": "code",
   "execution_count": null,
   "metadata": {
    "colab": {
     "base_uri": "https://localhost:8080/",
     "height": 1000
    },
    "id": "fncsV3Vp1ewE",
    "outputId": "1c60cf3d-0994-4bdc-9c50-56294ecc6af6"
   },
   "outputs": [],
   "source": [
    "from skimage import exposure\n",
    "import cv2\n",
    "\n",
    "# Görüntü işleme ve görselleştirme\n",
    "plt.figure(figsize=(18, 10))\n",
    "\n",
    "for idx, img_name in enumerate(random_images):\n",
    "    # Görüntü yolu\n",
    "    img_path = os.path.join(img_dir, img_name)\n",
    "\n",
    "    try:\n",
    "        # Görüntüyü yükle\n",
    "        raw_image = plt.imread(img_path)\n",
    "\n",
    "        # 1. Kontrast Germe\n",
    "        min_val, max_val = raw_image.min(), raw_image.max()\n",
    "        contrast_stretched = (raw_image - min_val) / (max_val - min_val)  # Normalize [0, 1]\n",
    "        contrast_stretched = (contrast_stretched * 255).astype(np.uint8)  # [0, 255]\n",
    "\n",
    "        # 2. Histogram Eşitleme\n",
    "        equalized_image = exposure.equalize_hist(contrast_stretched)  # Normalize [0, 1]\n",
    "        equalized_image = (equalized_image * 255).astype(np.uint8)\n",
    "\n",
    "        # 3. Gamma Düzeltme\n",
    "        gamma = 1.2  # Gamma değeri\n",
    "        gamma_corrected = np.power(equalized_image / 255.0, gamma) * 255\n",
    "        gamma_corrected = gamma_corrected.astype(np.uint8)\n",
    "\n",
    "        # Görselleri karşılaştırmalı görselleştirme (Her bir görüntü için 4 panel)\n",
    "        plt.subplot(len(random_images), 4, idx * 4 + 1), plt.imshow(raw_image, cmap='gray'), plt.title('Orijinal Görüntü'), plt.axis('off')\n",
    "        plt.subplot(len(random_images), 4, idx * 4 + 2), plt.imshow(contrast_stretched, cmap='gray'), plt.title('Kontrast Germe Görüntüsü'), plt.axis('off')\n",
    "        plt.subplot(len(random_images), 4, idx * 4 + 3), plt.imshow(equalized_image, cmap='gray'), plt.title('Histogram Eşitleme Görüntüsü'), plt.axis('off')\n",
    "        plt.subplot(len(random_images), 4, idx * 4 + 4), plt.imshow(gamma_corrected, cmap='gray'), plt.title(f'Gamma Düzeltme Görüntüsü (Gamma={gamma})'), plt.axis('off')\n",
    "\n",
    "    except FileNotFoundError:\n",
    "        print(f\"Dosya bulunamadı: {img_path}\")\n",
    "\n",
    "plt.tight_layout()\n",
    "plt.show()\n"
   ]
  },
  {
   "cell_type": "markdown",
   "metadata": {
    "id": "rNS7ssxEVQwx"
   },
   "source": [
    "**Görüntünün netliğini artırmak, detayları daha belirgin hale getirmek ve görsel analizi kolaylaştırmak amacıyla kontrast germe işlemi sonrası histogram eşitleme ile piksel yoğunluğu dağılımı dengelenmiştir. Ardından Gamma düzeltme yöntemiyle görüntülerin parlaklık seviyeleri optimize edilmiştir.**\n",
    "\n",
    "Kontrast germe; düşük kontrastlı görüntülerde detayları belirginleştirmek için görüntüdeki en koyu (minimum) ve en açık (maksimum) piksel değerlerini yeniden ölçeklendirerek tüm aralığı (0-255) kullanmaya çalışır ve görüntünün parlaklık ve koyuluk farkları daha belirgin hale gelir, detaylar daha net görülür.\n",
    "\n",
    "Histogram eşitleme; görüntüde çok karanlık veya çok parlak bölgeler varsa, bu bölgelerin detaylarını ortaya çıkarmak için yani görüntüdeki parlaklık seviyelerini daha dengeli dağıtmak için kullanılan bir yöntemdir. Piksel yoğunluğu eşitlenecek şekilde parlaklık seviyeleri yeniden düzenlenir ve görüntüdeki parlak ve karanlık alanlar arasındaki denge artar, ayrıntılar daha net hale gelir.\n",
    "\n",
    "Gamma düzeltme; görüntülerin çok karanlık veya çok parlak görünmesini düzeltmek için görüntünün parlaklık seviyesini kontrol eden bir yöntemdir. Piksel değerleri bir gamma faktörüyle kuvvetlendirilir ve görüntünün genel parlaklık seviyesi dengelenir, ayrıntılar daha iyi görülür.\n"
   ]
  },
  {
   "cell_type": "markdown",
   "metadata": {
    "id": "cIlYZGxsVhzI"
   },
   "source": [
    "**Adım 4: Gürültü Azaltma**"
   ]
  },
  {
   "cell_type": "markdown",
   "metadata": {
    "id": "9BDjHY4DG9oq"
   },
   "source": [
    "**Gürültü, görüntülerin netliğini azaltır ve özellikle tıbbi görüntülerde veya yanlış yorumlara yol açabilir. Bu gibi istenmeyen etkileri ortadan kaldırarak görüntünün daha temiz ve analiz edilebilir hale gelmesi için gürültü azaltma yapılmıştır.**"
   ]
  },
  {
   "cell_type": "code",
   "execution_count": null,
   "metadata": {
    "colab": {
     "base_uri": "https://localhost:8080/",
     "height": 599
    },
    "id": "kQgOqbkci-Un",
    "outputId": "e98ae245-1594-4215-e887-7a160111583b"
   },
   "outputs": [],
   "source": [
    "# Median Blur uygulama\n",
    "median_filtered = cv2.medianBlur(gamma_corrected, 5)\n",
    "\n",
    "# Gaussian Blur uygulama\n",
    "gaussian_filtered = cv2.GaussianBlur(gamma_corrected, (5, 5), 0)\n",
    "\n",
    "# Sonuçları görselleştirme\n",
    "plt.figure(figsize=(12, 6))\n",
    "plt.subplot(1, 2, 1), plt.imshow(median_filtered, cmap='gray'), plt.title(\"Medyan Filtreli Görüntü\")\n",
    "plt.subplot(1, 2, 2), plt.imshow(gaussian_filtered, cmap='gray'), plt.title(\"Gaussian Filtreli Görüntü\")\n",
    "plt.tight_layout()\n",
    "plt.show()"
   ]
  },
  {
   "cell_type": "markdown",
   "metadata": {
    "id": "oyZLIECj5-CT"
   },
   "source": [
    "... 9 görüntünün her  biri için Medyan Filtreli ve Gaussian Filtreli görüntüler"
   ]
  },
  {
   "cell_type": "code",
   "execution_count": null,
   "metadata": {
    "colab": {
     "base_uri": "https://localhost:8080/",
     "height": 1000
    },
    "id": "5f_WKb-A5a6T",
    "outputId": "e3dfc94d-5952-4d72-f612-0b516060f1f2"
   },
   "outputs": [],
   "source": [
    "# Tüm seçilmiş görüntülere Median ve Gaussian Blur uygulama\n",
    "plt.figure(figsize=(18, 10))\n",
    "\n",
    "for idx, img_name in enumerate(random_images):\n",
    "    # Görüntü yolu\n",
    "    img_path = os.path.join(img_dir, img_name)\n",
    "\n",
    "    try:\n",
    "        # Görüntüyü yükle\n",
    "        raw_image = plt.imread(img_path)\n",
    "\n",
    "        # Kontrast Germe\n",
    "        min_val, max_val = raw_image.min(), raw_image.max()\n",
    "        contrast_stretched = (raw_image - min_val) / (max_val - min_val)  # Normalize [0, 1]\n",
    "        contrast_stretched = (contrast_stretched * 255).astype(np.uint8)  # [0, 255]\n",
    "\n",
    "        # Histogram Eşitleme\n",
    "        equalized_image = exposure.equalize_hist(contrast_stretched)  # Normalize [0, 1]\n",
    "        equalized_image = (equalized_image * 255).astype(np.uint8)\n",
    "\n",
    "        # Gamma Düzeltme\n",
    "        gamma = 1.2\n",
    "        gamma_corrected = np.power(equalized_image / 255.0, gamma) * 255\n",
    "        gamma_corrected = gamma_corrected.astype(np.uint8)\n",
    "\n",
    "        # Median Blur\n",
    "        median_filtered = cv2.medianBlur(gamma_corrected, 5)\n",
    "\n",
    "        # Gaussian Blur\n",
    "        gaussian_filtered = cv2.GaussianBlur(gamma_corrected, (5, 5), 0)\n",
    "\n",
    "        # Görselleştirme (Her görüntü için 3 panel: Gamma, Median, Gaussian)\n",
    "        plt.subplot(len(random_images), 3, idx * 3 + 1), plt.imshow(gamma_corrected, cmap='gray'), plt.title(\"Gamma Düzeltme Görüntüsü\"), plt.axis('off')\n",
    "        plt.subplot(len(random_images), 3, idx * 3 + 2), plt.imshow(median_filtered, cmap='gray'), plt.title(\"Medyan Filtreli Görüntü\"), plt.axis('off')\n",
    "        plt.subplot(len(random_images), 3, idx * 3 + 3), plt.imshow(gaussian_filtered, cmap='gray'), plt.title(\"Gaussian Filtreli Görüntü\"), plt.axis('off')\n",
    "\n",
    "    except FileNotFoundError:\n",
    "        print(f\"Dosya bulunamadı: {img_path}\")\n",
    "\n",
    "plt.tight_layout()\n",
    "plt.show()\n"
   ]
  },
  {
   "cell_type": "markdown",
   "metadata": {
    "id": "DViPfkekWSaO"
   },
   "source": [
    "**Median Blur yöntemi ile gürültü azaltılırken kenar detayları korunmuştur. Gaussian Blur yöntemi ile görüntü daha yumuşak hale getirilmiştir.**\n",
    "\n",
    "Median Blur, her pikseli çevresindeki piksellerin meydanı ile değiştirirken Gaussian Blur ise görüntüyü bir Gauss filtresi ile bulanıklaştırır."
   ]
  },
  {
   "cell_type": "markdown",
   "metadata": {
    "id": "05ce0XCVWqvy"
   },
   "source": [
    "**Adım 5: Döndürme ve Ayna Çevirme**"
   ]
  },
  {
   "cell_type": "markdown",
   "metadata": {
    "id": "HrcnOXGBWyHq"
   },
   "source": [
    "**Görüntüler 0-10 derece arasında rastgele bir açıda döndürülmüştür. Ardından görüntüler yatay olarak çevrilmiş, ayna çevirme uygulanmış ve görselleştirilmiştir.**\n",
    "\n"
   ]
  },
  {
   "cell_type": "code",
   "execution_count": null,
   "metadata": {
    "colab": {
     "base_uri": "https://localhost:8080/",
     "height": 599
    },
    "id": "VNDnqgQ9jTsD",
    "outputId": "51200cf5-3998-4d34-9555-fedc987c712c"
   },
   "outputs": [],
   "source": [
    "# Döndürme işlemi\n",
    "rows, cols = gamma_corrected.shape\n",
    "center = (cols // 2, rows // 2)\n",
    "rotation_angle = np.random.uniform(0, 10)  # 0 ile 10 derece arasında rastgele bir açı\n",
    "rotation_matrix = cv2.getRotationMatrix2D(center, angle=rotation_angle, scale=1.0)\n",
    "rotated_image = cv2.warpAffine(gamma_corrected, rotation_matrix, (cols, rows))\n",
    "\n",
    "# Ayna çevirme işlemi\n",
    "flipped_image = cv2.flip(gamma_corrected, 1)  # Yatay çevirme\n",
    "\n",
    "# Sonuçları görselleştirme\n",
    "plt.figure(figsize=(12, 6))\n",
    "plt.subplot(1, 2, 1), plt.imshow(rotated_image, cmap='gray'), plt.title(f\"Döndürülmüş Görüntü ({rotation_angle:.2f}°)\")\n",
    "plt.subplot(1, 2, 2), plt.imshow(flipped_image, cmap='gray'), plt.title(\"Yatay Olarak Çevrilmiş Görüntü\")\n",
    "plt.tight_layout()\n",
    "plt.show()"
   ]
  },
  {
   "cell_type": "markdown",
   "metadata": {
    "id": "7lGi7B4w6fwp"
   },
   "source": [
    "... 9 görüntünün her  biri için Döndürülmüş Görüntüler ve Yatay Olarak Çevrilmiş Görüntüler\n",
    "\n",
    "\n",
    "\n"
   ]
  },
  {
   "cell_type": "code",
   "execution_count": null,
   "metadata": {
    "colab": {
     "base_uri": "https://localhost:8080/",
     "height": 1000
    },
    "id": "PMbpPh8tNV0W",
    "outputId": "b822b3bc-834c-4470-82b2-1a4378e35ab5"
   },
   "outputs": [],
   "source": [
    "plt.figure(figsize=(18, 15))\n",
    "\n",
    "for idx, img_name in enumerate(random_images):\n",
    "    # Görüntü yolu\n",
    "    img_path = os.path.join(img_dir, img_name)\n",
    "\n",
    "    try:\n",
    "        # Görüntüyü yükle\n",
    "        gamma_corrected = plt.imread(img_path)\n",
    "\n",
    "        # Döndürme işlemi\n",
    "        rows, cols = gamma_corrected.shape\n",
    "        center = (cols // 2, rows // 2)\n",
    "        rotation_angle = np.random.uniform(0, 10)  # 0 ile 10 derece arasında rastgele bir açı\n",
    "        rotation_matrix = cv2.getRotationMatrix2D(center, angle=rotation_angle, scale=1.0)\n",
    "        rotated_image = cv2.warpAffine(gamma_corrected, rotation_matrix, (cols, rows))\n",
    "\n",
    "        # Ayna çevirme işlemi\n",
    "        flipped_image = cv2.flip(gamma_corrected, 1)  # Yatay çevirme\n",
    "\n",
    "        # Görselleştirme\n",
    "        plt.subplot(len(random_images), 3, idx * 3 + 1)\n",
    "        plt.imshow(gamma_corrected, cmap='gray')\n",
    "        plt.title(\"Gamma Düzeltme Görüntüsü\"), plt.axis('off')\n",
    "\n",
    "        plt.subplot(len(random_images), 3, idx * 3 + 2)\n",
    "        plt.imshow(rotated_image, cmap='gray')\n",
    "        plt.title(f\"Döndürülmüş Görüntü ({rotation_angle:.2f}°)\"), plt.axis('off')\n",
    "\n",
    "        plt.subplot(len(random_images), 3, idx * 3 + 3)\n",
    "        plt.imshow(flipped_image, cmap='gray')\n",
    "        plt.title(f\"Döndürülmüş Görüntü ({rotation_angle:.2f}°)\"), plt.axis('off')\n",
    "        plt.title(\"Yatay Olarak Çevrilmiş Görüntü\"), plt.axis('off')\n",
    "\n",
    "    except FileNotFoundError:\n",
    "        print(f\"Dosya bulunamadı: {img_path}\")\n",
    "\n",
    "plt.tight_layout()\n",
    "plt.show()\n"
   ]
  },
  {
   "cell_type": "markdown",
   "metadata": {
    "id": "oSPmoU2k8F0z"
   },
   "source": [
    "**Görüntüler üzerinde uygulanan döndürme ve ayna çevirme işlemleri, veri artırma teknikleri kapsamında gerçekleştirilmiştir. Döndürme işlemiyle görüntüler hafif açılarla çevrilerek farklı bakış açıları oluşturulmuş, bu sayede modelin yönelime duyarlı olmaması hedeflenmiştir. Ayna çevirme ile ise görüntülerin yatayda simetrik bir versiyonu oluşturularak veri setindeki çeşitlilik artırılmıştır.**"
   ]
  },
  {
   "cell_type": "markdown",
   "metadata": {
    "id": "FMZme-AWXArw"
   },
   "source": [
    "**Adım 6: Frekans Alanında Filtreleme**"
   ]
  },
  {
   "cell_type": "markdown",
   "metadata": {
    "id": "HJXR76CZXN15"
   },
   "source": [
    "\n",
    "**Fourier dönüşümü ile görüntüler frekans alanına çevirmiş, düşük frekansları geçiren bir maske uygulanmış, ardından ters Fourier dönüşümü ile frekans alanında filtreleme yapılmıştır.**"
   ]
  },
  {
   "cell_type": "code",
   "execution_count": null,
   "metadata": {
    "colab": {
     "base_uri": "https://localhost:8080/",
     "height": 599
    },
    "id": "iK8Vm4GOj6FD",
    "outputId": "c9938c46-daee-4ad5-9375-65cccb50dc87"
   },
   "outputs": [],
   "source": [
    "# Fourier Dönüşümü\n",
    "dft = cv2.dft(np.float32(gamma_corrected), flags=cv2.DFT_COMPLEX_OUTPUT)\n",
    "dft_shifted = np.fft.fftshift(dft)\n",
    "\n",
    "# Düşük frekansları geçiren maske oluşturma\n",
    "rows, cols = gamma_corrected.shape\n",
    "crow, ccol = rows // 2 , cols // 2\n",
    "mask = np.zeros((rows, cols, 2), np.uint8)\n",
    "mask[crow-30:crow+30, ccol-30:ccol+30] = 1  # Merkezde düşük frekans geçişine izin ver\n",
    "\n",
    "# Maskeyi uygulama ve ters Fourier Dönüşümü\n",
    "fshift = dft_shifted * mask\n",
    "f_ishift = np.fft.ifftshift(fshift)\n",
    "filtered_image = cv2.idft(f_ishift)\n",
    "filtered_image = cv2.magnitude(filtered_image[:, :, 0], filtered_image[:, :, 1])\n",
    "\n",
    "# Görüntüyü normalize etme\n",
    "filtered_image = cv2.normalize(filtered_image, None, 0, 255, cv2.NORM_MINMAX)\n",
    "\n",
    "# Sonuçları görselleştirme\n",
    "plt.figure(figsize=(12, 6))\n",
    "plt.subplot(1, 2, 1), plt.imshow(gamma_corrected, cmap='gray'), plt.title(\"Gamma Düzeltme Görüntü\")\n",
    "plt.subplot(1, 2, 2), plt.imshow(filtered_image, cmap='gray'), plt.title(\"Frekans Alanında Filtrelenmiş Görüntü\")\n",
    "plt.tight_layout()\n",
    "plt.show()"
   ]
  },
  {
   "cell_type": "markdown",
   "metadata": {
    "id": "llvBdkUE6-0v"
   },
   "source": [
    "... 9 görüntünün her  biri için Gamma Düzeltme Görüntüleri ve Frekans Alanında Filtrelenmiş Görüntüler"
   ]
  },
  {
   "cell_type": "code",
   "execution_count": null,
   "metadata": {
    "colab": {
     "base_uri": "https://localhost:8080/",
     "height": 1000
    },
    "id": "kIuzBKIC_Z9u",
    "outputId": "367962d9-fe55-4eea-d53f-5adbc8931533"
   },
   "outputs": [],
   "source": [
    "# Fourier Dönüşümü ve Frekans Alanında Filtreleme\n",
    "plt.figure(figsize=(18, 10))\n",
    "\n",
    "for idx, img_name in enumerate(random_images):\n",
    "    # Görüntü yolu\n",
    "    img_path = os.path.join(img_dir, img_name)\n",
    "\n",
    "    try:\n",
    "        # İşlenmiş görüntüyü yükle (gamma_corrected olarak varsayılıyor)\n",
    "        gamma_corrected = plt.imread(img_path)  # İşlenmiş görüntülerin hazır olduğu varsayımı\n",
    "\n",
    "        # Fourier Dönüşümü\n",
    "        dft = cv2.dft(np.float32(gamma_corrected), flags=cv2.DFT_COMPLEX_OUTPUT)\n",
    "        dft_shifted = np.fft.fftshift(dft)\n",
    "\n",
    "        # Düşük frekansları geçiren maske\n",
    "        rows, cols = gamma_corrected.shape\n",
    "        crow, ccol = rows // 2, cols // 2\n",
    "        mask = np.zeros((rows, cols, 2), np.uint8)\n",
    "        mask[crow-30:crow+30, ccol-30:ccol+30] = 1  # Merkezde düşük frekans geçişine izin\n",
    "\n",
    "        # Maskeyi uygulama ve ters Fourier Dönüşümü\n",
    "        fshift = dft_shifted * mask\n",
    "        f_ishift = np.fft.ifftshift(fshift)\n",
    "        filtered_image = cv2.idft(f_ishift)\n",
    "        filtered_image = cv2.magnitude(filtered_image[:, :, 0], filtered_image[:, :, 1])\n",
    "\n",
    "        # Görüntüyü normalize etme\n",
    "        filtered_image = cv2.normalize(filtered_image, None, 0, 255, cv2.NORM_MINMAX)\n",
    "\n",
    "        # Görselleştirme\n",
    "        plt.subplot(len(random_images), 2, idx * 2 + 1)\n",
    "        plt.imshow(gamma_corrected, cmap='gray')\n",
    "        plt.title(\"Gamma Düzeltme Görüntüsü\"), plt.axis('off')\n",
    "\n",
    "        plt.subplot(len(random_images), 2, idx * 2 + 2)\n",
    "        plt.imshow(filtered_image, cmap='gray')\n",
    "        plt.title(\"Frekans Alanında Filtrelenmiş Görüntü\"), plt.axis('off')\n",
    "\n",
    "    except FileNotFoundError:\n",
    "        print(f\"Dosya bulunamadı: {img_path}\")\n",
    "\n",
    "plt.tight_layout()\n",
    "plt.show()\n"
   ]
  },
  {
   "cell_type": "markdown",
   "metadata": {
    "id": "U_sDk9LmAkT5"
   },
   "source": [
    "**Bu işlemler, frekans alanında düşük frekansları vurgulayarak görüntüdeki yüksek frekanslı detayları (örneğin gürültü) azaltmayı hedefler. Filtrelenmiş görüntülerde, orijinal görüntünün genel yapısı korunurken, ince detayların hafifçe yumuşatıldığı gözlenir. Bu işlem, özellikle tıbbi görüntülerde önemli yapıları koruyarak gürültü azaltma ve iyileştirme için faydalıdır.**\n",
    "\n",
    "Fourier dönüşümü, bir görüntüyü uzay alanından frekans alanına çevirerek genel yapıyı (düşük frekans) ve detayları (yüksek frekans) analiz etmeye olanak tanır. Bu yöntem, gürültü azaltma, detay vurgulama ve desen tespiti gibi işlemler için kullanılır."
   ]
  },
  {
   "cell_type": "markdown",
   "metadata": {
    "id": "T6segecqXwu1"
   },
   "source": [
    "**Adım 7: Keskinleştirme ve Enterpolasyon**"
   ]
  },
  {
   "cell_type": "markdown",
   "metadata": {
    "id": "VGUlNHkBX3z0"
   },
   "source": [
    "**Unsharp masking tekniği ile görüntü keskinleştirilmiştir. Ardından keskinleştirilmiş görüntü iki kat büyütülerek enterpolasyon uygulanmıştır.**"
   ]
  },
  {
   "cell_type": "code",
   "execution_count": null,
   "metadata": {
    "colab": {
     "base_uri": "https://localhost:8080/",
     "height": 599
    },
    "id": "RzlYpX9XkQRh",
    "outputId": "10c9ee71-6f15-4594-b60c-dfc454f035b7"
   },
   "outputs": [],
   "source": [
    "from scipy.ndimage import zoom\n",
    "\n",
    "# Keskinleştirme için unsharp masking çekirdeği\n",
    "sharpening_kernel = np.array([[-1, -1, -1],\n",
    "                              [-1,  9, -1],\n",
    "                              [-1, -1, -1]])\n",
    "sharpened_image = np.clip(cv2.filter2D(filtered_image, -1, sharpening_kernel), 0, 255).astype(np.uint8)\n",
    "\n",
    "# Bicubic enterpolasyon ile görüntüyü büyütme\n",
    "scale_factor = 2\n",
    "resized_image = zoom(sharpened_image, scale_factor, order=3)  # Bicubic enterpolasyon (order=3)\n",
    "\n",
    "# Sonuçları görselleştirme\n",
    "plt.figure(figsize=(12, 6))\n",
    "plt.subplot(1, 2, 1), plt.imshow(sharpened_image, cmap='gray'), plt.title(\"Keskinleştirilmiş Görüntü\")\n",
    "plt.subplot(1, 2, 2), plt.imshow(resized_image, cmap='gray'), plt.title(\"Enterpolasyonlu (Büyütülmüş) Görüntü)\")\n",
    "plt.tight_layout()\n",
    "plt.show()"
   ]
  },
  {
   "cell_type": "markdown",
   "metadata": {
    "id": "_SRJRc1377pc"
   },
   "source": [
    "... 9 görüntünün her  biri için Keskinleştirilmiş Görüntüler ve Enterpolasyonlu (Büyütülmüş) Görüntüler"
   ]
  },
  {
   "cell_type": "code",
   "execution_count": null,
   "metadata": {
    "colab": {
     "base_uri": "https://localhost:8080/",
     "height": 1000
    },
    "id": "whPq9ulsB8CA",
    "outputId": "292d440b-e611-47f8-dcdc-48d305f1cea0"
   },
   "outputs": [],
   "source": [
    "from scipy.ndimage import zoom\n",
    "\n",
    "plt.figure(figsize=(18, 10))\n",
    "\n",
    "for idx, img_name in enumerate(random_images):\n",
    "    # Görüntü yolu\n",
    "    img_path = os.path.join(img_dir, img_name)\n",
    "\n",
    "    try:\n",
    "        # İşlenmiş görüntüyü yükle\n",
    "        gamma_corrected = plt.imread(img_path)  # İşlenmiş görüntülerin hazır olduğu varsayımı\n",
    "\n",
    "        # Gamma düzeltme sonrası normalizasyon (gerekirse)\n",
    "        gamma_corrected = cv2.normalize(gamma_corrected, None, 0, 255, cv2.NORM_MINMAX).astype(np.uint8)\n",
    "\n",
    "        # Keskinleştirme için unsharp masking çekirdeği\n",
    "        sharpening_kernel = np.array([[-1, -1, -1],\n",
    "                                      [-1,  9, -1],\n",
    "                                      [-1, -1, -1]])\n",
    "        sharpened_image = cv2.filter2D(gamma_corrected, -1, sharpening_kernel)\n",
    "        sharpened_image = cv2.normalize(sharpened_image, None, 0, 255, cv2.NORM_MINMAX).astype(np.uint8)\n",
    "\n",
    "        # Bicubic enterpolasyon ile görüntüyü büyütme\n",
    "        scale_factor = 2\n",
    "        resized_image = zoom(sharpened_image, scale_factor, order=3)\n",
    "        resized_image = np.clip(resized_image, 0, 255).astype(np.uint8)\n",
    "\n",
    "        # Görselleştirme\n",
    "        plt.subplot(len(random_images), 2, idx * 2 + 1)\n",
    "        plt.imshow(sharpened_image, cmap='gray')\n",
    "        plt.title(\"Keskinleştirilmiş Görüntü\"), plt.axis('off')\n",
    "\n",
    "        plt.subplot(len(random_images), 2, idx * 2 + 2)\n",
    "        plt.imshow(resized_image, cmap='gray')\n",
    "        plt.title(\"Enterpolasyonlu (Büyütülmüş) Görüntü \"), plt.axis('off')\n",
    "\n",
    "    except FileNotFoundError:\n",
    "        print(f\"Dosya bulunamadı: {img_path}\")\n",
    "\n",
    "plt.tight_layout()\n",
    "plt.show()\n",
    "\n"
   ]
  },
  {
   "cell_type": "markdown",
   "metadata": {
    "id": "id27yWf2Bv00"
   },
   "source": [
    "**Unsharp masking tekniği ile görüntü detayları artırılmıştır. Görüntü bicubic enterpolasyon yöntemi ile 2 kat büyütülmüştür.**\n",
    "\n",
    "Unsharp masking, kenarların ve detayların daha belirgin hale getirilmesi için yani görüntüyü keskinleştirmek için kullanılan bir tekniktir. Görüntünün bulanıklaştırılmış bir versiyonu, orijinal görüntüden çıkarılarak keskin detaylar öne çıkarılır.\n",
    "Bicubic enterpolasyon ise görüntüyü büyütmek veya yeniden boyutlandırmak için kullanılan bir yöntem olup yüksek kaliteli büyütme sağlar ve görüntüdeki pürüzlülüğü azaltır. Özellikle keskinleştirme sonrası detayları kaybetmeden büyütme için idealdir."
   ]
  },
  {
   "cell_type": "markdown",
   "metadata": {
    "id": "naDBc8RLYCbM"
   },
   "source": [
    "**Bu çalışmada, görüntü işleme teknikleri kullanılarak ChestX-ray8 veri seti üzerinde çeşitli iyileştirme ve analizler gerçekleştirilmiştir. Görüntülerin kalitesini artırmak ve daha iyi analiz edilebilir hale getirmek için uygulanan adımlar başarıyla sonuçlanmıştır.**"
   ]
  }
 ],
 "metadata": {
  "colab": {
   "provenance": []
  },
  "kernelspec": {
   "display_name": "Python 3",
   "name": "python3"
  },
  "language_info": {
   "name": "python"
  }
 },
 "nbformat": 4,
 "nbformat_minor": 0
}
